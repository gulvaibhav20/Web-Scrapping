{
 "cells": [
  {
   "cell_type": "code",
   "execution_count": 1,
   "metadata": {
    "ExecuteTime": {
     "end_time": "2020-07-18T11:09:59.827951Z",
     "start_time": "2020-07-18T11:09:59.190006Z"
    }
   },
   "outputs": [],
   "source": [
    "# Importing Libraries \n",
    "\n",
    "import bs4\n",
    "import requests\n",
    "import pandas as pd"
   ]
  },
  {
   "cell_type": "code",
   "execution_count": 2,
   "metadata": {
    "ExecuteTime": {
     "end_time": "2020-07-18T11:10:16.612186Z",
     "start_time": "2020-07-18T11:09:59.827951Z"
    }
   },
   "outputs": [],
   "source": [
    "# Extracting Data\n",
    "\n",
    "img = []\n",
    "title = []\n",
    "price = []\n",
    "\n",
    "for i in range(1,51):\n",
    "    url = \"http://books.toscrape.com/catalogue/page-{}.html\".format(i)\n",
    "    response = requests.get(url)\n",
    "    soup = bs4.BeautifulSoup(response.content)\n",
    "    elements = soup.findAll('div',{'class':'image_container'})\n",
    "    \n",
    "    for j in elements:\n",
    "        img.append(j.img.attrs['src'])\n",
    "\n",
    "    body = soup.findAll('h3')\n",
    "    for j in body:\n",
    "        title.append(j.a.attrs['title'])\n",
    "        \n",
    "    cash = soup.findAll('p',{'class':'price_color'})\n",
    "    for j in cash:\n",
    "        price.append(str(j.text))"
   ]
  },
  {
   "cell_type": "code",
   "execution_count": 3,
   "metadata": {
    "ExecuteTime": {
     "end_time": "2020-07-18T11:10:16.694435Z",
     "start_time": "2020-07-18T11:10:16.612186Z"
    }
   },
   "outputs": [],
   "source": [
    "# Saving Data of books in a CSV file \n",
    "\n",
    "df = pd.DataFrame(data = [img,title,price]).T\n",
    "df.columns = ['image_url','book_title','product_price']\n",
    "df.to_csv('Books.csv',index = False)"
   ]
  },
  {
   "cell_type": "code",
   "execution_count": null,
   "metadata": {},
   "outputs": [],
   "source": []
  }
 ],
 "metadata": {
  "kernelspec": {
   "display_name": "Python 3",
   "language": "python",
   "name": "python3"
  },
  "language_info": {
   "codemirror_mode": {
    "name": "ipython",
    "version": 3
   },
   "file_extension": ".py",
   "mimetype": "text/x-python",
   "name": "python",
   "nbconvert_exporter": "python",
   "pygments_lexer": "ipython3",
   "version": "3.7.6"
  },
  "toc": {
   "base_numbering": 1,
   "nav_menu": {},
   "number_sections": true,
   "sideBar": true,
   "skip_h1_title": false,
   "title_cell": "Table of Contents",
   "title_sidebar": "Contents",
   "toc_cell": false,
   "toc_position": {},
   "toc_section_display": true,
   "toc_window_display": false
  },
  "varInspector": {
   "cols": {
    "lenName": 16,
    "lenType": 16,
    "lenVar": 40
   },
   "kernels_config": {
    "python": {
     "delete_cmd_postfix": "",
     "delete_cmd_prefix": "del ",
     "library": "var_list.py",
     "varRefreshCmd": "print(var_dic_list())"
    },
    "r": {
     "delete_cmd_postfix": ") ",
     "delete_cmd_prefix": "rm(",
     "library": "var_list.r",
     "varRefreshCmd": "cat(var_dic_list()) "
    }
   },
   "types_to_exclude": [
    "module",
    "function",
    "builtin_function_or_method",
    "instance",
    "_Feature"
   ],
   "window_display": false
  }
 },
 "nbformat": 4,
 "nbformat_minor": 4
}
