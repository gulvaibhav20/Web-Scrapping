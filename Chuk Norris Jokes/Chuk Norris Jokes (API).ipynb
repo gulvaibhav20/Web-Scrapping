{
 "cells": [
  {
   "cell_type": "code",
   "execution_count": 1,
   "metadata": {
    "ExecuteTime": {
     "end_time": "2020-07-18T11:18:36.800505Z",
     "start_time": "2020-07-18T11:18:36.157447Z"
    }
   },
   "outputs": [],
   "source": [
    "# Importing Libraries\n",
    "\n",
    "import pandas as pd\n",
    "import requests\n",
    "import bs4\n",
    "import json"
   ]
  },
  {
   "cell_type": "code",
   "execution_count": 2,
   "metadata": {
    "ExecuteTime": {
     "end_time": "2020-07-18T11:18:37.343841Z",
     "start_time": "2020-07-18T11:18:36.801501Z"
    }
   },
   "outputs": [],
   "source": [
    "# Acquiring Data of Chuck Norris Jokes\n",
    "\n",
    "url = 'http://api.icndb.com/jokes/latest'\n",
    "r = requests.get(url)\n",
    "json_data = r.content.decode('utf-8')\n",
    "d = json.loads(json_data)['value']\n",
    "ids = []\n",
    "jokes = []\n",
    "for i in d:\n",
    "    ids.append(i['id'])\n",
    "    jokes.append(i['joke'])"
   ]
  },
  {
   "cell_type": "code",
   "execution_count": 3,
   "metadata": {
    "ExecuteTime": {
     "end_time": "2020-07-18T11:18:37.426020Z",
     "start_time": "2020-07-18T11:18:37.349818Z"
    }
   },
   "outputs": [],
   "source": [
    "# Storing Data into Data Frame\n",
    "\n",
    "df = pd.DataFrame(data = [ids, jokes]).T\n",
    "df.columns = ['ID','Jokes']"
   ]
  },
  {
   "cell_type": "code",
   "execution_count": 4,
   "metadata": {
    "ExecuteTime": {
     "end_time": "2020-07-18T11:18:37.434742Z",
     "start_time": "2020-07-18T11:18:37.426750Z"
    }
   },
   "outputs": [],
   "source": [
    "# Savind the data in a CSV file\n",
    "\n",
    "df.to_csv('Chuck_Norris.csv', index=False)"
   ]
  },
  {
   "cell_type": "code",
   "execution_count": null,
   "metadata": {},
   "outputs": [],
   "source": []
  }
 ],
 "metadata": {
  "kernelspec": {
   "display_name": "Python 3",
   "language": "python",
   "name": "python3"
  },
  "language_info": {
   "codemirror_mode": {
    "name": "ipython",
    "version": 3
   },
   "file_extension": ".py",
   "mimetype": "text/x-python",
   "name": "python",
   "nbconvert_exporter": "python",
   "pygments_lexer": "ipython3",
   "version": "3.7.6"
  },
  "toc": {
   "base_numbering": 1,
   "nav_menu": {},
   "number_sections": true,
   "sideBar": true,
   "skip_h1_title": false,
   "title_cell": "Table of Contents",
   "title_sidebar": "Contents",
   "toc_cell": false,
   "toc_position": {},
   "toc_section_display": true,
   "toc_window_display": false
  },
  "varInspector": {
   "cols": {
    "lenName": 16,
    "lenType": 16,
    "lenVar": 40
   },
   "kernels_config": {
    "python": {
     "delete_cmd_postfix": "",
     "delete_cmd_prefix": "del ",
     "library": "var_list.py",
     "varRefreshCmd": "print(var_dic_list())"
    },
    "r": {
     "delete_cmd_postfix": ") ",
     "delete_cmd_prefix": "rm(",
     "library": "var_list.r",
     "varRefreshCmd": "cat(var_dic_list()) "
    }
   },
   "types_to_exclude": [
    "module",
    "function",
    "builtin_function_or_method",
    "instance",
    "_Feature"
   ],
   "window_display": false
  }
 },
 "nbformat": 4,
 "nbformat_minor": 4
}
